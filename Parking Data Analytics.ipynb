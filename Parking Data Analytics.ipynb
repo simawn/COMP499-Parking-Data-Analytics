{
 "cells": [
  {
   "cell_type": "markdown",
   "metadata": {},
   "source": [
    "# Parking Data Analytics\n",
    "###### by Simon Huang (27067380)\n",
    "\n",
    "## Questions\n",
    "### Main question\n",
    "* Does the population density affect the amount of tickets issued?\n",
    "\n",
    "### Minor questions\n",
    "* Is there a monthly ticket quotas for agents issuing them?\n",
    "\n",
    "* Does the population age affect the amount of tickets issued?\n",
    "\n",
    "## Data Set Sources\n",
    "##### Los Angeles Parking Citations\n",
    "https://www.kaggle.com/cityofLA/los-angeles-parking-citations\n",
    "\n",
    "This dataset is constantly being updated on a daily basis. The version I have was downloaded on June 4, 2019.\n",
    "\n",
    "##### 2010 Census Populations by Zip Code\n",
    "https://data.lacity.org/dataset/2010-Census-Populations-by-Zip-Code/nxs9-385f\n",
    "\n",
    "This is the most recent data set about Los Angeles' population. The next census will happen in 2020.\n",
    "\n",
    "##### Zip Codes in Southern California\n",
    "https://controllerdata.lacity.org/dataset/Zip-Code-Areas/9uax-58sb"
   ]
  },
  {
   "cell_type": "markdown",
   "metadata": {},
   "source": [
    "# Acquiring and Loading Data\n",
    "The data cannot be fetched directly using the `urllib` module. We are assuming that all the data is available locally.\n",
    "\n",
    "The data sets are placed in the following directories:\n",
    "\n",
    "`data\\raw\\los-angeles-parking-citations\\parking-citations.csv`\n",
    "\n",
    "`data\\raw\\2010_Census_Populations_by_Zip_Code.csv`\n",
    "\n",
    "`data\\raw\\Zip Code Areas.geojson`\n",
    "\n",
    "*Note that `parking-citations.csv` is very large (~1.3GB) and may take time to load*"
   ]
  },
  {
   "cell_type": "code",
   "execution_count": 1,
   "metadata": {},
   "outputs": [],
   "source": [
    "# Initial setup\n",
    "import pandas as pd\n",
    "import numpy as np\n",
    "\n",
    "# Removing scientific notation from prints for a better visualization\n",
    "pd.set_option('display.float_format', lambda x: '%.3f' % x)"
   ]
  },
  {
   "cell_type": "code",
   "execution_count": 2,
   "metadata": {
    "scrolled": false
   },
   "outputs": [
    {
     "name": "stderr",
     "output_type": "stream",
     "text": [
      "C:\\Users\\Simon\\Anaconda3\\lib\\site-packages\\IPython\\core\\interactiveshell.py:3049: DtypeWarning: Columns (0,7) have mixed types. Specify dtype option on import or set low_memory=False.\n",
      "  interactivity=interactivity, compiler=compiler, result=result)\n"
     ]
    },
    {
     "data": {
      "text/html": [
       "<div>\n",
       "<style scoped>\n",
       "    .dataframe tbody tr th:only-of-type {\n",
       "        vertical-align: middle;\n",
       "    }\n",
       "\n",
       "    .dataframe tbody tr th {\n",
       "        vertical-align: top;\n",
       "    }\n",
       "\n",
       "    .dataframe thead th {\n",
       "        text-align: right;\n",
       "    }\n",
       "</style>\n",
       "<table border=\"1\" class=\"dataframe\">\n",
       "  <thead>\n",
       "    <tr style=\"text-align: right;\">\n",
       "      <th></th>\n",
       "      <th>Ticket number</th>\n",
       "      <th>Issue Date</th>\n",
       "      <th>Issue time</th>\n",
       "      <th>Meter Id</th>\n",
       "      <th>Marked Time</th>\n",
       "      <th>RP State Plate</th>\n",
       "      <th>Plate Expiry Date</th>\n",
       "      <th>VIN</th>\n",
       "      <th>Make</th>\n",
       "      <th>Body Style</th>\n",
       "      <th>Color</th>\n",
       "      <th>Location</th>\n",
       "      <th>Route</th>\n",
       "      <th>Agency</th>\n",
       "      <th>Violation code</th>\n",
       "      <th>Violation Description</th>\n",
       "      <th>Fine amount</th>\n",
       "      <th>Latitude</th>\n",
       "      <th>Longitude</th>\n",
       "    </tr>\n",
       "  </thead>\n",
       "  <tbody>\n",
       "    <tr>\n",
       "      <th>0</th>\n",
       "      <td>1103341116</td>\n",
       "      <td>2015-12-21T00:00:00</td>\n",
       "      <td>1251.000</td>\n",
       "      <td>NaN</td>\n",
       "      <td>nan</td>\n",
       "      <td>CA</td>\n",
       "      <td>200304.000</td>\n",
       "      <td>NaN</td>\n",
       "      <td>HOND</td>\n",
       "      <td>PA</td>\n",
       "      <td>GY</td>\n",
       "      <td>13147 WELBY WAY</td>\n",
       "      <td>01521</td>\n",
       "      <td>1.000</td>\n",
       "      <td>4000A1</td>\n",
       "      <td>NO EVIDENCE OF REG</td>\n",
       "      <td>50.000</td>\n",
       "      <td>99999.000</td>\n",
       "      <td>99999.000</td>\n",
       "    </tr>\n",
       "    <tr>\n",
       "      <th>1</th>\n",
       "      <td>1103700150</td>\n",
       "      <td>2015-12-21T00:00:00</td>\n",
       "      <td>1435.000</td>\n",
       "      <td>NaN</td>\n",
       "      <td>nan</td>\n",
       "      <td>CA</td>\n",
       "      <td>201512.000</td>\n",
       "      <td>NaN</td>\n",
       "      <td>GMC</td>\n",
       "      <td>VN</td>\n",
       "      <td>WH</td>\n",
       "      <td>525 S MAIN ST</td>\n",
       "      <td>1C51</td>\n",
       "      <td>1.000</td>\n",
       "      <td>4000A1</td>\n",
       "      <td>NO EVIDENCE OF REG</td>\n",
       "      <td>50.000</td>\n",
       "      <td>99999.000</td>\n",
       "      <td>99999.000</td>\n",
       "    </tr>\n",
       "    <tr>\n",
       "      <th>2</th>\n",
       "      <td>1104803000</td>\n",
       "      <td>2015-12-21T00:00:00</td>\n",
       "      <td>2055.000</td>\n",
       "      <td>NaN</td>\n",
       "      <td>nan</td>\n",
       "      <td>CA</td>\n",
       "      <td>201503.000</td>\n",
       "      <td>NaN</td>\n",
       "      <td>NISS</td>\n",
       "      <td>PA</td>\n",
       "      <td>BK</td>\n",
       "      <td>200 WORLD WAY</td>\n",
       "      <td>2R2</td>\n",
       "      <td>2.000</td>\n",
       "      <td>8939</td>\n",
       "      <td>WHITE CURB</td>\n",
       "      <td>58.000</td>\n",
       "      <td>6439997.900</td>\n",
       "      <td>1802686.400</td>\n",
       "    </tr>\n",
       "    <tr>\n",
       "      <th>3</th>\n",
       "      <td>1104820732</td>\n",
       "      <td>2015-12-26T00:00:00</td>\n",
       "      <td>1515.000</td>\n",
       "      <td>NaN</td>\n",
       "      <td>nan</td>\n",
       "      <td>CA</td>\n",
       "      <td>nan</td>\n",
       "      <td>NaN</td>\n",
       "      <td>ACUR</td>\n",
       "      <td>PA</td>\n",
       "      <td>WH</td>\n",
       "      <td>100 WORLD WAY</td>\n",
       "      <td>2F11</td>\n",
       "      <td>2.000</td>\n",
       "      <td>000</td>\n",
       "      <td>17104h</td>\n",
       "      <td>nan</td>\n",
       "      <td>6440041.100</td>\n",
       "      <td>1802686.200</td>\n",
       "    </tr>\n",
       "    <tr>\n",
       "      <th>4</th>\n",
       "      <td>1105461453</td>\n",
       "      <td>2015-09-15T00:00:00</td>\n",
       "      <td>115.000</td>\n",
       "      <td>NaN</td>\n",
       "      <td>nan</td>\n",
       "      <td>CA</td>\n",
       "      <td>200316.000</td>\n",
       "      <td>NaN</td>\n",
       "      <td>CHEV</td>\n",
       "      <td>PA</td>\n",
       "      <td>BK</td>\n",
       "      <td>GEORGIA ST/OLYMPIC</td>\n",
       "      <td>1FB70</td>\n",
       "      <td>1.000</td>\n",
       "      <td>8069A</td>\n",
       "      <td>NO STOPPING/STANDING</td>\n",
       "      <td>93.000</td>\n",
       "      <td>99999.000</td>\n",
       "      <td>99999.000</td>\n",
       "    </tr>\n",
       "  </tbody>\n",
       "</table>\n",
       "</div>"
      ],
      "text/plain": [
       "  Ticket number           Issue Date  Issue time Meter Id  Marked Time  \\\n",
       "0    1103341116  2015-12-21T00:00:00    1251.000      NaN          nan   \n",
       "1    1103700150  2015-12-21T00:00:00    1435.000      NaN          nan   \n",
       "2    1104803000  2015-12-21T00:00:00    2055.000      NaN          nan   \n",
       "3    1104820732  2015-12-26T00:00:00    1515.000      NaN          nan   \n",
       "4    1105461453  2015-09-15T00:00:00     115.000      NaN          nan   \n",
       "\n",
       "  RP State Plate  Plate Expiry Date  VIN  Make Body Style Color  \\\n",
       "0             CA         200304.000  NaN  HOND         PA    GY   \n",
       "1             CA         201512.000  NaN   GMC         VN    WH   \n",
       "2             CA         201503.000  NaN  NISS         PA    BK   \n",
       "3             CA                nan  NaN  ACUR         PA    WH   \n",
       "4             CA         200316.000  NaN  CHEV         PA    BK   \n",
       "\n",
       "             Location  Route  Agency Violation code Violation Description  \\\n",
       "0     13147 WELBY WAY  01521   1.000         4000A1    NO EVIDENCE OF REG   \n",
       "1       525 S MAIN ST   1C51   1.000         4000A1    NO EVIDENCE OF REG   \n",
       "2       200 WORLD WAY    2R2   2.000           8939            WHITE CURB   \n",
       "3       100 WORLD WAY   2F11   2.000            000                17104h   \n",
       "4  GEORGIA ST/OLYMPIC  1FB70   1.000          8069A  NO STOPPING/STANDING   \n",
       "\n",
       "   Fine amount    Latitude   Longitude  \n",
       "0       50.000   99999.000   99999.000  \n",
       "1       50.000   99999.000   99999.000  \n",
       "2       58.000 6439997.900 1802686.400  \n",
       "3          nan 6440041.100 1802686.200  \n",
       "4       93.000   99999.000   99999.000  "
      ]
     },
     "execution_count": 2,
     "metadata": {},
     "output_type": "execute_result"
    }
   ],
   "source": [
    "parking_data = pd.read_csv(\"./data/raw/los-angeles-parking-citations/parking-citations.csv\")\n",
    "parking_data.head()\n",
    "\n",
    "# A warning may occur due to the large size of the .csv"
   ]
  },
  {
   "cell_type": "code",
   "execution_count": 3,
   "metadata": {},
   "outputs": [
    {
     "data": {
      "text/html": [
       "<div>\n",
       "<style scoped>\n",
       "    .dataframe tbody tr th:only-of-type {\n",
       "        vertical-align: middle;\n",
       "    }\n",
       "\n",
       "    .dataframe tbody tr th {\n",
       "        vertical-align: top;\n",
       "    }\n",
       "\n",
       "    .dataframe thead th {\n",
       "        text-align: right;\n",
       "    }\n",
       "</style>\n",
       "<table border=\"1\" class=\"dataframe\">\n",
       "  <thead>\n",
       "    <tr style=\"text-align: right;\">\n",
       "      <th></th>\n",
       "      <th>Zip Code</th>\n",
       "      <th>Total Population</th>\n",
       "      <th>Median Age</th>\n",
       "      <th>Total Males</th>\n",
       "      <th>Total Females</th>\n",
       "      <th>Total Households</th>\n",
       "      <th>Average Household Size</th>\n",
       "    </tr>\n",
       "  </thead>\n",
       "  <tbody>\n",
       "    <tr>\n",
       "      <th>0</th>\n",
       "      <td>91371</td>\n",
       "      <td>1</td>\n",
       "      <td>73.500</td>\n",
       "      <td>0</td>\n",
       "      <td>1</td>\n",
       "      <td>1</td>\n",
       "      <td>1.000</td>\n",
       "    </tr>\n",
       "    <tr>\n",
       "      <th>1</th>\n",
       "      <td>90001</td>\n",
       "      <td>57110</td>\n",
       "      <td>26.600</td>\n",
       "      <td>28468</td>\n",
       "      <td>28642</td>\n",
       "      <td>12971</td>\n",
       "      <td>4.400</td>\n",
       "    </tr>\n",
       "    <tr>\n",
       "      <th>2</th>\n",
       "      <td>90002</td>\n",
       "      <td>51223</td>\n",
       "      <td>25.500</td>\n",
       "      <td>24876</td>\n",
       "      <td>26347</td>\n",
       "      <td>11731</td>\n",
       "      <td>4.360</td>\n",
       "    </tr>\n",
       "    <tr>\n",
       "      <th>3</th>\n",
       "      <td>90003</td>\n",
       "      <td>66266</td>\n",
       "      <td>26.300</td>\n",
       "      <td>32631</td>\n",
       "      <td>33635</td>\n",
       "      <td>15642</td>\n",
       "      <td>4.220</td>\n",
       "    </tr>\n",
       "    <tr>\n",
       "      <th>4</th>\n",
       "      <td>90004</td>\n",
       "      <td>62180</td>\n",
       "      <td>34.800</td>\n",
       "      <td>31302</td>\n",
       "      <td>30878</td>\n",
       "      <td>22547</td>\n",
       "      <td>2.730</td>\n",
       "    </tr>\n",
       "  </tbody>\n",
       "</table>\n",
       "</div>"
      ],
      "text/plain": [
       "   Zip Code  Total Population  Median Age  Total Males  Total Females  \\\n",
       "0     91371                 1      73.500            0              1   \n",
       "1     90001             57110      26.600        28468          28642   \n",
       "2     90002             51223      25.500        24876          26347   \n",
       "3     90003             66266      26.300        32631          33635   \n",
       "4     90004             62180      34.800        31302          30878   \n",
       "\n",
       "   Total Households  Average Household Size  \n",
       "0                 1                   1.000  \n",
       "1             12971                   4.400  \n",
       "2             11731                   4.360  \n",
       "3             15642                   4.220  \n",
       "4             22547                   2.730  "
      ]
     },
     "execution_count": 3,
     "metadata": {},
     "output_type": "execute_result"
    }
   ],
   "source": [
    "population_data = pd.read_csv(\"./data/raw/2010_Census_Populations_by_Zip_Code.csv\")\n",
    "population_data.head()"
   ]
  },
  {
   "cell_type": "markdown",
   "metadata": {},
   "source": [
    "The zip code areas data is formatted in `geojson`. We need to use the `geopandas` module instead of the regular one.\n",
    "\n",
    "`geopandas` can be installed using the command `conda install geopandas`"
   ]
  },
  {
   "cell_type": "code",
   "execution_count": 4,
   "metadata": {},
   "outputs": [
    {
     "name": "stderr",
     "output_type": "stream",
     "text": [
      "Unable to open EPSG support file gcs.csv.  Try setting the GDAL_DATA environment variable to point to the directory containing EPSG csv files.\n"
     ]
    }
   ],
   "source": [
    "import geopandas as gpd"
   ]
  },
  {
   "cell_type": "code",
   "execution_count": 5,
   "metadata": {
    "scrolled": false
   },
   "outputs": [
    {
     "data": {
      "text/html": [
       "<div>\n",
       "<style scoped>\n",
       "    .dataframe tbody tr th:only-of-type {\n",
       "        vertical-align: middle;\n",
       "    }\n",
       "\n",
       "    .dataframe tbody tr th {\n",
       "        vertical-align: top;\n",
       "    }\n",
       "\n",
       "    .dataframe thead th {\n",
       "        text-align: right;\n",
       "    }\n",
       "</style>\n",
       "<table border=\"1\" class=\"dataframe\">\n",
       "  <thead>\n",
       "    <tr style=\"text-align: right;\">\n",
       "      <th></th>\n",
       "      <th>external_i</th>\n",
       "      <th>name</th>\n",
       "      <th>mtfcc10</th>\n",
       "      <th>display_na</th>\n",
       "      <th>intptlat10</th>\n",
       "      <th>set</th>\n",
       "      <th>awater10</th>\n",
       "      <th>slug</th>\n",
       "      <th>zcta5ce10</th>\n",
       "      <th>funcstat10</th>\n",
       "      <th>aland10</th>\n",
       "      <th>geoid10</th>\n",
       "      <th>kind</th>\n",
       "      <th>intptlon10</th>\n",
       "      <th>classfp10</th>\n",
       "      <th>geometry</th>\n",
       "    </tr>\n",
       "  </thead>\n",
       "  <tbody>\n",
       "    <tr>\n",
       "      <th>0</th>\n",
       "      <td>90001</td>\n",
       "      <td>90001</td>\n",
       "      <td>G6350</td>\n",
       "      <td>90001 ZIP Code Tabulation Area (2012)</td>\n",
       "      <td>+33.9740268</td>\n",
       "      <td>ZIP Code Tabulation Areas (2012)</td>\n",
       "      <td>0</td>\n",
       "      <td>90001-zip-code-tabulation-area-2012</td>\n",
       "      <td>90001</td>\n",
       "      <td>S</td>\n",
       "      <td>9071359</td>\n",
       "      <td>90001</td>\n",
       "      <td>ZIP Code Tabulation Area (2012)</td>\n",
       "      <td>-118.2495088</td>\n",
       "      <td>B5</td>\n",
       "      <td>(POLYGON ((-118.2651510000001 33.9702490000000...</td>\n",
       "    </tr>\n",
       "    <tr>\n",
       "      <th>1</th>\n",
       "      <td>90002</td>\n",
       "      <td>90002</td>\n",
       "      <td>G6350</td>\n",
       "      <td>90002 ZIP Code Tabulation Area (2012)</td>\n",
       "      <td>+33.9490988</td>\n",
       "      <td>ZIP Code Tabulation Areas (2012)</td>\n",
       "      <td>0</td>\n",
       "      <td>90002-zip-code-tabulation-area-2012</td>\n",
       "      <td>90002</td>\n",
       "      <td>S</td>\n",
       "      <td>7930684</td>\n",
       "      <td>90002</td>\n",
       "      <td>ZIP Code Tabulation Area (2012)</td>\n",
       "      <td>-118.2467371</td>\n",
       "      <td>B5</td>\n",
       "      <td>(POLYGON ((-118.2373700000001 33.9585210000000...</td>\n",
       "    </tr>\n",
       "    <tr>\n",
       "      <th>2</th>\n",
       "      <td>90003</td>\n",
       "      <td>90003</td>\n",
       "      <td>G6350</td>\n",
       "      <td>90003 ZIP Code Tabulation Area (2012)</td>\n",
       "      <td>+33.9641307</td>\n",
       "      <td>ZIP Code Tabulation Areas (2012)</td>\n",
       "      <td>403</td>\n",
       "      <td>90003-zip-code-tabulation-area-2012</td>\n",
       "      <td>90003</td>\n",
       "      <td>S</td>\n",
       "      <td>9197637</td>\n",
       "      <td>90003</td>\n",
       "      <td>ZIP Code Tabulation Area (2012)</td>\n",
       "      <td>-118.2727831</td>\n",
       "      <td>B5</td>\n",
       "      <td>(POLYGON ((-118.2651740000001 33.9818280000000...</td>\n",
       "    </tr>\n",
       "    <tr>\n",
       "      <th>3</th>\n",
       "      <td>90004</td>\n",
       "      <td>90004</td>\n",
       "      <td>G6350</td>\n",
       "      <td>90004 ZIP Code Tabulation Area (2012)</td>\n",
       "      <td>+34.0761981</td>\n",
       "      <td>ZIP Code Tabulation Areas (2012)</td>\n",
       "      <td>0</td>\n",
       "      <td>90004-zip-code-tabulation-area-2012</td>\n",
       "      <td>90004</td>\n",
       "      <td>S</td>\n",
       "      <td>7894525</td>\n",
       "      <td>90004</td>\n",
       "      <td>ZIP Code Tabulation Area (2012)</td>\n",
       "      <td>-118.3107225</td>\n",
       "      <td>B5</td>\n",
       "      <td>(POLYGON ((-118.3116010000001 34.0689580000000...</td>\n",
       "    </tr>\n",
       "    <tr>\n",
       "      <th>4</th>\n",
       "      <td>90005</td>\n",
       "      <td>90005</td>\n",
       "      <td>G6350</td>\n",
       "      <td>90005 ZIP Code Tabulation Area (2012)</td>\n",
       "      <td>+34.0591634</td>\n",
       "      <td>ZIP Code Tabulation Areas (2012)</td>\n",
       "      <td>0</td>\n",
       "      <td>90005-zip-code-tabulation-area-2012</td>\n",
       "      <td>90005</td>\n",
       "      <td>S</td>\n",
       "      <td>2807559</td>\n",
       "      <td>90005</td>\n",
       "      <td>ZIP Code Tabulation Area (2012)</td>\n",
       "      <td>-118.3068924</td>\n",
       "      <td>B5</td>\n",
       "      <td>(POLYGON ((-118.2916380000001 34.0617930000000...</td>\n",
       "    </tr>\n",
       "  </tbody>\n",
       "</table>\n",
       "</div>"
      ],
      "text/plain": [
       "  external_i   name mtfcc10                             display_na  \\\n",
       "0      90001  90001   G6350  90001 ZIP Code Tabulation Area (2012)   \n",
       "1      90002  90002   G6350  90002 ZIP Code Tabulation Area (2012)   \n",
       "2      90003  90003   G6350  90003 ZIP Code Tabulation Area (2012)   \n",
       "3      90004  90004   G6350  90004 ZIP Code Tabulation Area (2012)   \n",
       "4      90005  90005   G6350  90005 ZIP Code Tabulation Area (2012)   \n",
       "\n",
       "    intptlat10                               set awater10  \\\n",
       "0  +33.9740268  ZIP Code Tabulation Areas (2012)        0   \n",
       "1  +33.9490988  ZIP Code Tabulation Areas (2012)        0   \n",
       "2  +33.9641307  ZIP Code Tabulation Areas (2012)      403   \n",
       "3  +34.0761981  ZIP Code Tabulation Areas (2012)        0   \n",
       "4  +34.0591634  ZIP Code Tabulation Areas (2012)        0   \n",
       "\n",
       "                                  slug zcta5ce10 funcstat10  aland10 geoid10  \\\n",
       "0  90001-zip-code-tabulation-area-2012     90001          S  9071359   90001   \n",
       "1  90002-zip-code-tabulation-area-2012     90002          S  7930684   90002   \n",
       "2  90003-zip-code-tabulation-area-2012     90003          S  9197637   90003   \n",
       "3  90004-zip-code-tabulation-area-2012     90004          S  7894525   90004   \n",
       "4  90005-zip-code-tabulation-area-2012     90005          S  2807559   90005   \n",
       "\n",
       "                              kind    intptlon10 classfp10  \\\n",
       "0  ZIP Code Tabulation Area (2012)  -118.2495088        B5   \n",
       "1  ZIP Code Tabulation Area (2012)  -118.2467371        B5   \n",
       "2  ZIP Code Tabulation Area (2012)  -118.2727831        B5   \n",
       "3  ZIP Code Tabulation Area (2012)  -118.3107225        B5   \n",
       "4  ZIP Code Tabulation Area (2012)  -118.3068924        B5   \n",
       "\n",
       "                                            geometry  \n",
       "0  (POLYGON ((-118.2651510000001 33.9702490000000...  \n",
       "1  (POLYGON ((-118.2373700000001 33.9585210000000...  \n",
       "2  (POLYGON ((-118.2651740000001 33.9818280000000...  \n",
       "3  (POLYGON ((-118.3116010000001 34.0689580000000...  \n",
       "4  (POLYGON ((-118.2916380000001 34.0617930000000...  "
      ]
     },
     "execution_count": 5,
     "metadata": {},
     "output_type": "execute_result"
    }
   ],
   "source": [
    "zip_data = gpd.read_file('./data/raw/Zip Code Areas.geojson')\n",
    "zip_data.head()"
   ]
  },
  {
   "cell_type": "markdown",
   "metadata": {},
   "source": [
    "# Data Sets Cleaning"
   ]
  },
  {
   "cell_type": "markdown",
   "metadata": {},
   "source": [
    "### Checking if any null values are present"
   ]
  },
  {
   "cell_type": "code",
   "execution_count": 6,
   "metadata": {},
   "outputs": [
    {
     "data": {
      "text/plain": [
       "Ticket number                  0\n",
       "Issue Date                   568\n",
       "Issue time                  2925\n",
       "Meter Id                 7031696\n",
       "Marked Time              9163348\n",
       "RP State Plate               765\n",
       "Plate Expiry Date         866347\n",
       "VIN                      9459249\n",
       "Make                        9521\n",
       "Body Style                  9930\n",
       "Color                       4523\n",
       "Location                     938\n",
       "Route                      70783\n",
       "Agency                       578\n",
       "Violation code                 0\n",
       "Violation Description       1011\n",
       "Fine amount                 7126\n",
       "Latitude                       4\n",
       "Longitude                      4\n",
       "dtype: int64"
      ]
     },
     "execution_count": 6,
     "metadata": {},
     "output_type": "execute_result"
    }
   ],
   "source": [
    "parking_data.isnull().sum()"
   ]
  },
  {
   "cell_type": "code",
   "execution_count": 7,
   "metadata": {
    "scrolled": true
   },
   "outputs": [
    {
     "data": {
      "text/plain": [
       "Zip Code                  0\n",
       "Total Population          0\n",
       "Median Age                0\n",
       "Total Males               0\n",
       "Total Females             0\n",
       "Total Households          0\n",
       "Average Household Size    0\n",
       "dtype: int64"
      ]
     },
     "execution_count": 7,
     "metadata": {},
     "output_type": "execute_result"
    }
   ],
   "source": [
    "population_data.isnull().sum()"
   ]
  },
  {
   "cell_type": "code",
   "execution_count": 8,
   "metadata": {
    "scrolled": true
   },
   "outputs": [
    {
     "data": {
      "text/plain": [
       "external_i    0\n",
       "name          0\n",
       "mtfcc10       0\n",
       "display_na    0\n",
       "intptlat10    0\n",
       "set           0\n",
       "awater10      0\n",
       "slug          0\n",
       "zcta5ce10     0\n",
       "funcstat10    0\n",
       "aland10       0\n",
       "geoid10       0\n",
       "kind          0\n",
       "intptlon10    0\n",
       "classfp10     0\n",
       "geometry      0\n",
       "dtype: int64"
      ]
     },
     "execution_count": 8,
     "metadata": {},
     "output_type": "execute_result"
    }
   ],
   "source": [
    "zip_data.isnull().sum()"
   ]
  },
  {
   "cell_type": "markdown",
   "metadata": {},
   "source": [
    "We notice that only `parking_data` has null values. \n",
    "\n",
    "However, not all missing values in this column are declared as NaN. \n",
    "\n",
    "For example, from a quick look on the `longitude` and `latitude`, some missing values are displayed as 99999"
   ]
  },
  {
   "cell_type": "code",
   "execution_count": 9,
   "metadata": {},
   "outputs": [
    {
     "data": {
      "text/plain": [
       "99999.000      1400782\n",
       "1819688.456       8610\n",
       "1859071.166       7610\n",
       "1882601.871       5720\n",
       "1849114.300       5041\n",
       "1859071.200       4795\n",
       "1849114.334       4401\n",
       "1836817.208       4326\n",
       "1849114.334       4215\n",
       "1864751.557       4196\n",
       "1883363.553       3843\n",
       "1852080.794       3560\n",
       "1837269.893       3527\n",
       "1845112.570       3521\n",
       "1819197.428       3483\n",
       "1876409.078       3481\n",
       "1840433.993       3481\n",
       "1849336.560       3397\n",
       "1845451.300       3327\n",
       "1845451.348       3305\n",
       "1848423.248       3271\n",
       "1858229.000       3222\n",
       "1857542.012       3185\n",
       "1857542.000       3185\n",
       "1858835.417       3155\n",
       "1859516.042       3089\n",
       "1848423.200       3049\n",
       "1882601.900       2995\n",
       "1803997.602       2890\n",
       "1819197.428       2866\n",
       "                ...   \n",
       "1832483.744          1\n",
       "1840585.351          1\n",
       "1934631.030          1\n",
       "1903949.900          1\n",
       "1848483.584          1\n",
       "1883095.633          1\n",
       "1861520.860          1\n",
       "1801712.181          1\n",
       "1839372.809          1\n",
       "1903982.400          1\n",
       "1844281.500          1\n",
       "1808854.681          1\n",
       "1869526.494          1\n",
       "1837711.348          1\n",
       "1829888.838          1\n",
       "1903969.900          1\n",
       "1837269.593          1\n",
       "1903998.400          1\n",
       "1903995.400          1\n",
       "1919671.794          1\n",
       "1856218.359          1\n",
       "1841691.211          1\n",
       "1913480.600          1\n",
       "1903878.900          1\n",
       "1812610.585          1\n",
       "1847355.031          1\n",
       "1850277.831          1\n",
       "1818860.518          1\n",
       "1912844.765          1\n",
       "1829667.187          1\n",
       "Name: Longitude, Length: 1076751, dtype: int64"
      ]
     },
     "execution_count": 9,
     "metadata": {},
     "output_type": "execute_result"
    }
   ],
   "source": [
    "parking_data['Longitude'].value_counts()"
   ]
  },
  {
   "cell_type": "code",
   "execution_count": 10,
   "metadata": {},
   "outputs": [
    {
     "data": {
      "text/plain": [
       "99999.000      1400782\n",
       "6463689.998       8616\n",
       "6419828.962       8610\n",
       "6463690.000       8374\n",
       "6458312.392       7610\n",
       "6462120.700       6857\n",
       "6421105.622       6349\n",
       "6463689.894       5991\n",
       "6448999.196       5720\n",
       "6461453.800       5642\n",
       "6458312.400       4718\n",
       "6463689.900       4430\n",
       "6449300.792       4269\n",
       "6457731.227       4252\n",
       "6485641.284       4191\n",
       "6470141.350       4043\n",
       "6486945.410       3946\n",
       "6449000.204       3843\n",
       "6483074.281       3686\n",
       "6457731.200       3671\n",
       "6439920.110       3606\n",
       "6427692.586       3494\n",
       "6447001.322       3481\n",
       "6421785.514       3481\n",
       "6419538.332       3413\n",
       "6486375.314       3403\n",
       "6427279.079       3402\n",
       "6457482.263       3397\n",
       "6426797.900       3319\n",
       "6418423.925       3284\n",
       "                ...   \n",
       "6467380.257          1\n",
       "6472132.826          1\n",
       "6501687.343          1\n",
       "6473338.888          1\n",
       "6461748.297          1\n",
       "6435571.500          1\n",
       "6475620.235          1\n",
       "6435555.500          1\n",
       "6463217.786          1\n",
       "6435543.500          1\n",
       "6435394.000          1\n",
       "6466395.262          1\n",
       "6435676.500          1\n",
       "6426445.870          1\n",
       "6435764.500          1\n",
       "6479621.005          1\n",
       "6477747.171          1\n",
       "6444175.471          1\n",
       "6418876.360          1\n",
       "6476260.700          1\n",
       "6435824.000          1\n",
       "6469221.297          1\n",
       "6434789.763          1\n",
       "6422647.608          1\n",
       "6393964.109          1\n",
       "6435367.500          1\n",
       "6372050.763          1\n",
       "6462685.144          1\n",
       "6472066.905          1\n",
       "6487768.978          1\n",
       "Name: Latitude, Length: 1031394, dtype: int64"
      ]
     },
     "execution_count": 10,
     "metadata": {},
     "output_type": "execute_result"
    }
   ],
   "source": [
    "parking_data['Latitude'].value_counts()"
   ]
  },
  {
   "cell_type": "markdown",
   "metadata": {},
   "source": [
    "From the unique counts of longitude and latitude, we notice that there is an equal number of entries with the value of 99999\n",
    "\n",
    "Also, since longitude and latitude describe a specific location (Los Angeles in our case), we can assume that those values should be close together within a certain range. Therefore, any values that are out of range would be considered erroneous\n",
    "\n",
    "We can double check with quartiles, mean, min and max"
   ]
  },
  {
   "cell_type": "code",
   "execution_count": 11,
   "metadata": {},
   "outputs": [
    {
     "data": {
      "text/plain": [
       "count      9475554.000\n",
       "mean       1590978.489\n",
       "std        1988562.739\n",
       "min          99999.000\n",
       "25%        1821960.801\n",
       "50%        1842024.540\n",
       "75%        1858208.220\n",
       "max     4042322160.000\n",
       "Name: Longitude, dtype: float64"
      ]
     },
     "execution_count": 11,
     "metadata": {},
     "output_type": "execute_result"
    }
   ],
   "source": [
    "parking_data['Longitude'].describe()"
   ]
  },
  {
   "cell_type": "code",
   "execution_count": 12,
   "metadata": {},
   "outputs": [
    {
     "data": {
      "text/plain": [
       "count      9475554.000\n",
       "mean       5517048.968\n",
       "std        2941144.952\n",
       "min          99999.000\n",
       "25%        6421784.451\n",
       "50%        6451852.197\n",
       "75%        6475138.037\n",
       "max     4042322160.000\n",
       "Name: Latitude, dtype: float64"
      ]
     },
     "execution_count": 12,
     "metadata": {},
     "output_type": "execute_result"
    }
   ],
   "source": [
    "parking_data['Latitude'].describe()"
   ]
  },
  {
   "cell_type": "markdown",
   "metadata": {},
   "source": [
    "From the data above, we notice that the values for 25%, 50%, and 75% quartiles are very close together. However, the minimum and maximum values are really far away from the quartiles. We can assume those values are erroneous.\n",
    "\n",
    "For longitude, we can assume that the valid range should be in the 1 000 000 range\n",
    "\n",
    "For latitude, we can assume that the valid range should be in the 6 000 000 range"
   ]
  },
  {
   "cell_type": "code",
   "execution_count": 13,
   "metadata": {},
   "outputs": [
    {
     "data": {
      "text/plain": [
       "1400785"
      ]
     },
     "execution_count": 13,
     "metadata": {},
     "output_type": "execute_result"
    }
   ],
   "source": [
    "len(parking_data[(parking_data['Latitude'] < 6000000) | \n",
    "             (parking_data['Latitude'] >= 7000000)]\n",
    "   )"
   ]
  },
  {
   "cell_type": "code",
   "execution_count": 14,
   "metadata": {},
   "outputs": [
    {
     "data": {
      "text/plain": [
       "1400952"
      ]
     },
     "execution_count": 14,
     "metadata": {},
     "output_type": "execute_result"
    }
   ],
   "source": [
    "len(parking_data[(parking_data['Longitude'] < 1000000) | \n",
    "             (parking_data['Longitude'] >= 2000000)]\n",
    "   )"
   ]
  },
  {
   "cell_type": "code",
   "execution_count": 15,
   "metadata": {},
   "outputs": [
    {
     "data": {
      "text/plain": [
       "9475558"
      ]
     },
     "execution_count": 15,
     "metadata": {},
     "output_type": "execute_result"
    }
   ],
   "source": [
    "len(parking_data)"
   ]
  },
  {
   "cell_type": "markdown",
   "metadata": {},
   "source": [
    "From the results above, there would be around 1 400 000 invalid entries out of 9 400 000 entries. We can create a new variable with filtered out results. We can then do further cleaning from there."
   ]
  },
  {
   "cell_type": "code",
   "execution_count": 16,
   "metadata": {},
   "outputs": [],
   "source": [
    "parking_data_clean = parking_data[((parking_data['Latitude'] >= 6000000) &\n",
    "                                 (parking_data['Latitude'] < 7000000)) |\n",
    "                                 ((parking_data['Longitude'] >= 1000000) &\n",
    "                                 (parking_data['Longitude'] < 2000000))]"
   ]
  },
  {
   "cell_type": "code",
   "execution_count": 17,
   "metadata": {
    "scrolled": true
   },
   "outputs": [
    {
     "data": {
      "text/plain": [
       "Ticket number                  0\n",
       "Issue Date                     0\n",
       "Issue time                  1362\n",
       "Meter Id                 5757395\n",
       "Marked Time              7795803\n",
       "RP State Plate               580\n",
       "Plate Expiry Date         749403\n",
       "VIN                      8059753\n",
       "Make                        4740\n",
       "Body Style                  4167\n",
       "Color                       1667\n",
       "Location                       0\n",
       "Route                      35761\n",
       "Agency                         5\n",
       "Violation code                 0\n",
       "Violation Description        390\n",
       "Fine amount                 3032\n",
       "Latitude                       0\n",
       "Longitude                      0\n",
       "dtype: int64"
      ]
     },
     "execution_count": 17,
     "metadata": {},
     "output_type": "execute_result"
    }
   ],
   "source": [
    "parking_data_clean.isnull().sum()"
   ]
  },
  {
   "cell_type": "markdown",
   "metadata": {},
   "source": [
    "We notice that there are now no null values for latitude and longitude.\n",
    "\n",
    "There are entries that contains a large amount of NaN but the column is not useful for the analysis of our questions. Rows such as `Meter Id`, `Marked Time`, `Plate Expiry Date`, `VIN`, and `Route` can be dropped."
   ]
  },
  {
   "cell_type": "code",
   "execution_count": 18,
   "metadata": {
    "scrolled": true
   },
   "outputs": [],
   "source": [
    "parking_data_clean = parking_data_clean.drop(columns=['Meter Id', 'Marked Time', 'Plate Expiry Date', 'VIN', 'Route'])"
   ]
  },
  {
   "cell_type": "markdown",
   "metadata": {},
   "source": [
    "From here, we can drop all NaN values since we have a very large data set"
   ]
  },
  {
   "cell_type": "code",
   "execution_count": 19,
   "metadata": {},
   "outputs": [],
   "source": [
    "parking_data_clean = parking_data_clean.dropna()"
   ]
  },
  {
   "cell_type": "code",
   "execution_count": 20,
   "metadata": {},
   "outputs": [
    {
     "data": {
      "text/plain": [
       "Ticket number            0\n",
       "Issue Date               0\n",
       "Issue time               0\n",
       "RP State Plate           0\n",
       "Make                     0\n",
       "Body Style               0\n",
       "Color                    0\n",
       "Location                 0\n",
       "Agency                   0\n",
       "Violation code           0\n",
       "Violation Description    0\n",
       "Fine amount              0\n",
       "Latitude                 0\n",
       "Longitude                0\n",
       "dtype: int64"
      ]
     },
     "execution_count": 20,
     "metadata": {},
     "output_type": "execute_result"
    }
   ],
   "source": [
    "parking_data_clean.isnull().sum()"
   ]
  },
  {
   "cell_type": "code",
   "execution_count": 21,
   "metadata": {},
   "outputs": [
    {
     "data": {
      "text/plain": [
       "0"
      ]
     },
     "execution_count": 21,
     "metadata": {},
     "output_type": "execute_result"
    }
   ],
   "source": [
    "parking_data_clean['Ticket number'].duplicated().sum()"
   ]
  },
  {
   "cell_type": "markdown",
   "metadata": {},
   "source": [
    "There are no NaN values or duplicated entries in the parking data"
   ]
  },
  {
   "cell_type": "code",
   "execution_count": 22,
   "metadata": {},
   "outputs": [
    {
     "data": {
      "text/plain": [
       "Ticket number             object\n",
       "Issue Date                object\n",
       "Issue time               float64\n",
       "RP State Plate            object\n",
       "Make                      object\n",
       "Body Style                object\n",
       "Color                     object\n",
       "Location                  object\n",
       "Agency                   float64\n",
       "Violation code            object\n",
       "Violation Description     object\n",
       "Fine amount              float64\n",
       "Latitude                 float64\n",
       "Longitude                float64\n",
       "dtype: object"
      ]
     },
     "execution_count": 22,
     "metadata": {},
     "output_type": "execute_result"
    }
   ],
   "source": [
    "parking_data_clean.dtypes"
   ]
  },
  {
   "cell_type": "markdown",
   "metadata": {},
   "source": [
    "There are values that has a wrong data type such as `Issue Date`(datetime64) `Issue Time`(int64), and `Agency`(int64)"
   ]
  },
  {
   "cell_type": "code",
   "execution_count": 23,
   "metadata": {
    "scrolled": true
   },
   "outputs": [
    {
     "data": {
      "text/plain": [
       "Ticket number                    object\n",
       "Issue Date               datetime64[ns]\n",
       "Issue time                        int64\n",
       "RP State Plate                   object\n",
       "Make                             object\n",
       "Body Style                       object\n",
       "Color                            object\n",
       "Location                         object\n",
       "Agency                            int64\n",
       "Violation code                   object\n",
       "Violation Description            object\n",
       "Fine amount                     float64\n",
       "Latitude                        float64\n",
       "Longitude                       float64\n",
       "dtype: object"
      ]
     },
     "execution_count": 23,
     "metadata": {},
     "output_type": "execute_result"
    }
   ],
   "source": [
    "parking_data_clean['Issue Date'] = parking_data_clean['Issue Date'].astype('datetime64')\n",
    "parking_data_clean['Issue time'] = parking_data_clean['Issue time'].astype('int64')\n",
    "parking_data_clean['Agency'] = parking_data_clean['Agency'].astype('int64')\n",
    "parking_data_clean.dtypes"
   ]
  },
  {
   "cell_type": "markdown",
   "metadata": {},
   "source": [
    "### Normalizing coordinates\n",
    "\n",
    "Although we have cleaned the data for latitude and longitude, the units used are not conventional. According to the website of the data provider: `Parking citations with latitude / longitude (XY) in US Feet coordinates according to the NAD_1983_StatePlane_California_V_FIPS_0405_Feet projection.`\n",
    "\n",
    "We need to run a function that will convert X/Y projections to Latitude and Longitude\n",
    "\n",
    "After looking around, the original coordinate system is specified here: https://epsg.io/102645\n",
    "\n",
    "We want to convert it to a standard representation that most GPS system in the world uses, which is WGS84: https://spatialreference.org/ref/epsg/wgs-84/\n",
    "\n",
    "We use the PyProj library for easier conversion by setting the projection of the input data and the projection of the output\n",
    "\n",
    "Make sure pyproj is on version 2.2.0: `conda install -c conda-forge pyproj`"
   ]
  },
  {
   "cell_type": "code",
   "execution_count": 56,
   "metadata": {},
   "outputs": [],
   "source": [
    "import pyproj\n",
    "\n",
    "def coord_convert(lat, long):\n",
    "    # The description below is from https://epsg.io/102645\n",
    "    desc = '+proj=lcc +lat_1=34.03333333333333 +lat_2=35.46666666666667 +lat_0=33.5 +lon_0=-118 +x_0=2000000 +y_0=500000.0000000002 +ellps=GRS80 +datum=NAD83 +to_meter=0.3048006096012192 +no_defs'\n",
    "    clong, clat = pyproj.transform(\n",
    "        pyproj.Proj(desc, preserve_units = True), \n",
    "        # epsg:4326 (WGS84) is the standard projection that many GPS uses\n",
    "        # from https://spatialreference.org/ref/epsg/wgs-84/\n",
    "        pyproj.Proj(init='epsg:4326'), \n",
    "        lat, \n",
    "        long)\n",
    "    return clat, clong \n",
    "    # The output is inverted, we force the so that the first value is the latitude and the second value is the longitude"
   ]
  },
  {
   "cell_type": "code",
   "execution_count": 63,
   "metadata": {
    "scrolled": true
   },
   "outputs": [
    {
     "name": "stdout",
     "output_type": "stream",
     "text": [
      "(33.945211979605055, -118.40115138698647)\n",
      "--- 0.09008026123046875 seconds ---\n",
      "33.945211979605055\n",
      "--- 0.08807945251464844 seconds ---\n",
      "-118.40115138698647\n",
      "--- 0.09008073806762695 seconds ---\n"
     ]
    }
   ],
   "source": [
    "#Testing output\n",
    "#Initial data: 6439997.900, 1802686.400\n",
    "import time\n",
    "start_time = time.time()\n",
    "print(coord_convert(6439997.900, 1802686.400))\n",
    "print(\"--- %s seconds ---\" % (time.time() - start_time))\n",
    "\n",
    "start_time = time.time()\n",
    "print(coord_convert_lat(6439997.900, 1802686.400))\n",
    "print(\"--- %s seconds ---\" % (time.time() - start_time))\n",
    "\n",
    "start_time = time.time()\n",
    "print(coord_convert_long(6439997.900, 1802686.400))\n",
    "print(\"--- %s seconds ---\" % (time.time() - start_time))\n"
   ]
  },
  {
   "cell_type": "markdown",
   "metadata": {},
   "source": [
    "The conversion above is correct according to: https://epsg.io/transform#s_srs=102645&t_srs=4326\n",
    "\n",
    "We can confirm the coordinates using this tool: https://www.latlong.net/Show-Latitude-Longitude.html\n",
    "\n",
    "Using the function above, we will create a two new columns, clatitude and clongitude, which represents the converted latitude and longitude"
   ]
  },
  {
   "cell_type": "markdown",
   "metadata": {},
   "source": [
    "## Cleaning and normalizing population data\n",
    "We first check if the correct data types are used"
   ]
  },
  {
   "cell_type": "code",
   "execution_count": 44,
   "metadata": {},
   "outputs": [
    {
     "data": {
      "text/plain": [
       "Zip Code                    int64\n",
       "Total Population            int64\n",
       "Median Age                float64\n",
       "Total Males                 int64\n",
       "Total Females               int64\n",
       "Total Households            int64\n",
       "Average Household Size    float64\n",
       "dtype: object"
      ]
     },
     "execution_count": 44,
     "metadata": {},
     "output_type": "execute_result"
    }
   ],
   "source": [
    "population_data.dtypes"
   ]
  },
  {
   "cell_type": "markdown",
   "metadata": {},
   "source": [
    "The data types are correct for all the columns"
   ]
  },
  {
   "cell_type": "code",
   "execution_count": 45,
   "metadata": {},
   "outputs": [
    {
     "data": {
      "text/html": [
       "<div>\n",
       "<style scoped>\n",
       "    .dataframe tbody tr th:only-of-type {\n",
       "        vertical-align: middle;\n",
       "    }\n",
       "\n",
       "    .dataframe tbody tr th {\n",
       "        vertical-align: top;\n",
       "    }\n",
       "\n",
       "    .dataframe thead th {\n",
       "        text-align: right;\n",
       "    }\n",
       "</style>\n",
       "<table border=\"1\" class=\"dataframe\">\n",
       "  <thead>\n",
       "    <tr style=\"text-align: right;\">\n",
       "      <th></th>\n",
       "      <th>Zip Code</th>\n",
       "      <th>Total Population</th>\n",
       "      <th>Median Age</th>\n",
       "      <th>Total Males</th>\n",
       "      <th>Total Females</th>\n",
       "      <th>Total Households</th>\n",
       "      <th>Average Household Size</th>\n",
       "    </tr>\n",
       "  </thead>\n",
       "  <tbody>\n",
       "    <tr>\n",
       "      <th>count</th>\n",
       "      <td>319.000</td>\n",
       "      <td>319.000</td>\n",
       "      <td>319.000</td>\n",
       "      <td>319.000</td>\n",
       "      <td>319.000</td>\n",
       "      <td>319.000</td>\n",
       "      <td>319.000</td>\n",
       "    </tr>\n",
       "    <tr>\n",
       "      <th>mean</th>\n",
       "      <td>91000.674</td>\n",
       "      <td>33241.342</td>\n",
       "      <td>36.528</td>\n",
       "      <td>16391.564</td>\n",
       "      <td>16849.777</td>\n",
       "      <td>10964.571</td>\n",
       "      <td>2.828</td>\n",
       "    </tr>\n",
       "    <tr>\n",
       "      <th>std</th>\n",
       "      <td>908.360</td>\n",
       "      <td>21644.417</td>\n",
       "      <td>8.693</td>\n",
       "      <td>10747.496</td>\n",
       "      <td>10934.986</td>\n",
       "      <td>6270.646</td>\n",
       "      <td>0.836</td>\n",
       "    </tr>\n",
       "    <tr>\n",
       "      <th>min</th>\n",
       "      <td>90001.000</td>\n",
       "      <td>0.000</td>\n",
       "      <td>0.000</td>\n",
       "      <td>0.000</td>\n",
       "      <td>0.000</td>\n",
       "      <td>0.000</td>\n",
       "      <td>0.000</td>\n",
       "    </tr>\n",
       "    <tr>\n",
       "      <th>25%</th>\n",
       "      <td>90243.500</td>\n",
       "      <td>19318.500</td>\n",
       "      <td>32.400</td>\n",
       "      <td>9763.500</td>\n",
       "      <td>9633.500</td>\n",
       "      <td>6765.500</td>\n",
       "      <td>2.435</td>\n",
       "    </tr>\n",
       "    <tr>\n",
       "      <th>50%</th>\n",
       "      <td>90807.000</td>\n",
       "      <td>31481.000</td>\n",
       "      <td>37.100</td>\n",
       "      <td>15283.000</td>\n",
       "      <td>16202.000</td>\n",
       "      <td>10968.000</td>\n",
       "      <td>2.830</td>\n",
       "    </tr>\n",
       "    <tr>\n",
       "      <th>75%</th>\n",
       "      <td>91417.000</td>\n",
       "      <td>44978.000</td>\n",
       "      <td>41.000</td>\n",
       "      <td>22219.500</td>\n",
       "      <td>22690.500</td>\n",
       "      <td>14889.500</td>\n",
       "      <td>3.320</td>\n",
       "    </tr>\n",
       "    <tr>\n",
       "      <th>max</th>\n",
       "      <td>93591.000</td>\n",
       "      <td>105549.000</td>\n",
       "      <td>74.000</td>\n",
       "      <td>52794.000</td>\n",
       "      <td>53185.000</td>\n",
       "      <td>31087.000</td>\n",
       "      <td>4.670</td>\n",
       "    </tr>\n",
       "  </tbody>\n",
       "</table>\n",
       "</div>"
      ],
      "text/plain": [
       "       Zip Code  Total Population  Median Age  Total Males  Total Females  \\\n",
       "count   319.000           319.000     319.000      319.000        319.000   \n",
       "mean  91000.674         33241.342      36.528    16391.564      16849.777   \n",
       "std     908.360         21644.417       8.693    10747.496      10934.986   \n",
       "min   90001.000             0.000       0.000        0.000          0.000   \n",
       "25%   90243.500         19318.500      32.400     9763.500       9633.500   \n",
       "50%   90807.000         31481.000      37.100    15283.000      16202.000   \n",
       "75%   91417.000         44978.000      41.000    22219.500      22690.500   \n",
       "max   93591.000        105549.000      74.000    52794.000      53185.000   \n",
       "\n",
       "       Total Households  Average Household Size  \n",
       "count           319.000                 319.000  \n",
       "mean          10964.571                   2.828  \n",
       "std            6270.646                   0.836  \n",
       "min               0.000                   0.000  \n",
       "25%            6765.500                   2.435  \n",
       "50%           10968.000                   2.830  \n",
       "75%           14889.500                   3.320  \n",
       "max           31087.000                   4.670  "
      ]
     },
     "execution_count": 45,
     "metadata": {},
     "output_type": "execute_result"
    }
   ],
   "source": [
    "population_data.describe()"
   ]
  },
  {
   "cell_type": "markdown",
   "metadata": {},
   "source": [
    "The values seem to be consistent as there is a fluctuation between the population. The minimum value of 0 is justified as there are ZIP code areas where there are no residents"
   ]
  },
  {
   "cell_type": "code",
   "execution_count": 38,
   "metadata": {},
   "outputs": [],
   "source": [
    "park_sample = parking_data_clean.sample(100)"
   ]
  },
  {
   "cell_type": "code",
   "execution_count": 46,
   "metadata": {},
   "outputs": [
    {
     "data": {
      "text/html": [
       "<div>\n",
       "<style scoped>\n",
       "    .dataframe tbody tr th:only-of-type {\n",
       "        vertical-align: middle;\n",
       "    }\n",
       "\n",
       "    .dataframe tbody tr th {\n",
       "        vertical-align: top;\n",
       "    }\n",
       "\n",
       "    .dataframe thead th {\n",
       "        text-align: right;\n",
       "    }\n",
       "</style>\n",
       "<table border=\"1\" class=\"dataframe\">\n",
       "  <thead>\n",
       "    <tr style=\"text-align: right;\">\n",
       "      <th></th>\n",
       "      <th>Zip Code</th>\n",
       "      <th>Total Population</th>\n",
       "      <th>Median Age</th>\n",
       "      <th>Total Males</th>\n",
       "      <th>Total Females</th>\n",
       "      <th>Total Households</th>\n",
       "      <th>Average Household Size</th>\n",
       "    </tr>\n",
       "  </thead>\n",
       "  <tbody>\n",
       "    <tr>\n",
       "      <th>64</th>\n",
       "      <td>90079</td>\n",
       "      <td>0</td>\n",
       "      <td>0.000</td>\n",
       "      <td>0</td>\n",
       "      <td>0</td>\n",
       "      <td>0</td>\n",
       "      <td>0.000</td>\n",
       "    </tr>\n",
       "    <tr>\n",
       "      <th>66</th>\n",
       "      <td>90090</td>\n",
       "      <td>0</td>\n",
       "      <td>0.000</td>\n",
       "      <td>0</td>\n",
       "      <td>0</td>\n",
       "      <td>0</td>\n",
       "      <td>0.000</td>\n",
       "    </tr>\n",
       "    <tr>\n",
       "      <th>119</th>\n",
       "      <td>90506</td>\n",
       "      <td>0</td>\n",
       "      <td>0.000</td>\n",
       "      <td>0</td>\n",
       "      <td>0</td>\n",
       "      <td>0</td>\n",
       "      <td>0.000</td>\n",
       "    </tr>\n",
       "    <tr>\n",
       "      <th>153</th>\n",
       "      <td>90747</td>\n",
       "      <td>0</td>\n",
       "      <td>0.000</td>\n",
       "      <td>0</td>\n",
       "      <td>0</td>\n",
       "      <td>0</td>\n",
       "      <td>0.000</td>\n",
       "    </tr>\n",
       "    <tr>\n",
       "      <th>167</th>\n",
       "      <td>90831</td>\n",
       "      <td>0</td>\n",
       "      <td>0.000</td>\n",
       "      <td>0</td>\n",
       "      <td>0</td>\n",
       "      <td>0</td>\n",
       "      <td>0.000</td>\n",
       "    </tr>\n",
       "    <tr>\n",
       "      <th>252</th>\n",
       "      <td>91608</td>\n",
       "      <td>0</td>\n",
       "      <td>0.000</td>\n",
       "      <td>0</td>\n",
       "      <td>0</td>\n",
       "      <td>0</td>\n",
       "      <td>0.000</td>\n",
       "    </tr>\n",
       "  </tbody>\n",
       "</table>\n",
       "</div>"
      ],
      "text/plain": [
       "     Zip Code  Total Population  Median Age  Total Males  Total Females  \\\n",
       "64      90079                 0       0.000            0              0   \n",
       "66      90090                 0       0.000            0              0   \n",
       "119     90506                 0       0.000            0              0   \n",
       "153     90747                 0       0.000            0              0   \n",
       "167     90831                 0       0.000            0              0   \n",
       "252     91608                 0       0.000            0              0   \n",
       "\n",
       "     Total Households  Average Household Size  \n",
       "64                  0                   0.000  \n",
       "66                  0                   0.000  \n",
       "119                 0                   0.000  \n",
       "153                 0                   0.000  \n",
       "167                 0                   0.000  \n",
       "252                 0                   0.000  "
      ]
     },
     "execution_count": 46,
     "metadata": {},
     "output_type": "execute_result"
    }
   ],
   "source": [
    "population_data[(population_data['Total Population'] == 0)]"
   ]
  },
  {
   "cell_type": "code",
   "execution_count": 43,
   "metadata": {
    "scrolled": true
   },
   "outputs": [
    {
     "ename": "TypeError",
     "evalue": "'int' object is not iterable",
     "output_type": "error",
     "traceback": [
      "\u001b[1;31m---------------------------------------------------------------------------\u001b[0m",
      "\u001b[1;31mTypeError\u001b[0m                                 Traceback (most recent call last)",
      "\u001b[1;32m<ipython-input-43-81a833175bc4>\u001b[0m in \u001b[0;36m<module>\u001b[1;34m\u001b[0m\n\u001b[1;32m----> 1\u001b[1;33m \u001b[0mpark_sample\u001b[0m\u001b[1;33m[\u001b[0m\u001b[1;34m'cLatLog'\u001b[0m\u001b[1;33m]\u001b[0m \u001b[1;33m=\u001b[0m \u001b[1;33m[\u001b[0m\u001b[0mcoord_convert\u001b[0m\u001b[1;33m(\u001b[0m\u001b[0mx\u001b[0m\u001b[1;33m[\u001b[0m\u001b[1;34m'Latitude'\u001b[0m\u001b[1;33m]\u001b[0m\u001b[1;33m,\u001b[0m \u001b[0mx\u001b[0m\u001b[1;33m[\u001b[0m\u001b[1;34m'Longitude'\u001b[0m\u001b[1;33m]\u001b[0m\u001b[1;33m)\u001b[0m \u001b[1;32mfor\u001b[0m \u001b[0mx\u001b[0m \u001b[1;32min\u001b[0m \u001b[0mpark_sample\u001b[0m\u001b[1;33m.\u001b[0m\u001b[0mshape\u001b[0m\u001b[1;33m[\u001b[0m\u001b[1;36m0\u001b[0m\u001b[1;33m]\u001b[0m\u001b[1;33m]\u001b[0m\u001b[1;33m\u001b[0m\u001b[1;33m\u001b[0m\u001b[0m\n\u001b[0m",
      "\u001b[1;31mTypeError\u001b[0m: 'int' object is not iterable"
     ]
    }
   ],
   "source": [
    "park_sample['cLatLog'] = [coord_convert(x['Latitude'], x['Longitude']) for x in park_sample.shape[0]]"
   ]
  },
  {
   "cell_type": "markdown",
   "metadata": {},
   "source": [
    "90079: Seems to be a mall in downtown LA\n",
    "\n",
    "90090: Dodgers Stadium\n",
    "\n",
    "90506: El Camino College\n",
    "\n",
    "90747: California State University Dominguez Hills\n",
    "\n",
    "90831: A block of commercial buildings\n",
    "\n",
    "91608: A block of commercial buildings\n",
    "\n",
    "From those results, we can see that some areas are not necessarily a residential area. This can skew some of our results in later analysis. We may need to determine the minimum amount of population before further analysis. \n",
    "\n",
    "The data seems to be cleaned and normalized for the moment"
   ]
  },
  {
   "cell_type": "code",
   "execution_count": 47,
   "metadata": {},
   "outputs": [],
   "source": [
    "population_data_clean = population_data.copy()"
   ]
  },
  {
   "cell_type": "markdown",
   "metadata": {},
   "source": [
    "## Cleaning and normalizing ZIP data"
   ]
  },
  {
   "cell_type": "markdown",
   "metadata": {},
   "source": [
    "The only columns that we are interested are the ZIP code and the geometry. We will use the geometry data to calculate the area and also check if any of the parking ticket location falls into the area, thus determining the ZIP code. From there, we have the population data of the ZIP code in `population_data_clean`"
   ]
  },
  {
   "cell_type": "code",
   "execution_count": 48,
   "metadata": {},
   "outputs": [],
   "source": [
    "zip_data_clean = zip_data[['name', 'geometry']]"
   ]
  },
  {
   "cell_type": "code",
   "execution_count": 49,
   "metadata": {},
   "outputs": [
    {
     "data": {
      "text/plain": [
       "name        object\n",
       "geometry    object\n",
       "dtype: object"
      ]
     },
     "execution_count": 49,
     "metadata": {},
     "output_type": "execute_result"
    }
   ],
   "source": [
    "zip_data_clean.dtypes"
   ]
  },
  {
   "cell_type": "code",
   "execution_count": 50,
   "metadata": {
    "scrolled": true
   },
   "outputs": [
    {
     "name": "stderr",
     "output_type": "stream",
     "text": [
      "C:\\Users\\Simon\\Anaconda3\\lib\\site-packages\\ipykernel_launcher.py:1: SettingWithCopyWarning: \n",
      "A value is trying to be set on a copy of a slice from a DataFrame.\n",
      "Try using .loc[row_indexer,col_indexer] = value instead\n",
      "\n",
      "See the caveats in the documentation: http://pandas.pydata.org/pandas-docs/stable/indexing.html#indexing-view-versus-copy\n",
      "  \"\"\"Entry point for launching an IPython kernel.\n"
     ]
    }
   ],
   "source": [
    "zip_data_clean['name'] = zip_data_clean['name'].astype('int64')"
   ]
  },
  {
   "cell_type": "code",
   "execution_count": 51,
   "metadata": {
    "scrolled": true
   },
   "outputs": [
    {
     "data": {
      "text/plain": [
       "name         int64\n",
       "geometry    object\n",
       "dtype: object"
      ]
     },
     "execution_count": 51,
     "metadata": {},
     "output_type": "execute_result"
    }
   ],
   "source": [
    "zip_data_clean.dtypes"
   ]
  },
  {
   "cell_type": "markdown",
   "metadata": {},
   "source": [
    "We have converted the ZIP data type to int64, the same data type from `population_data`\n",
    "\n",
    "We are renaming `name` to `Zip Code` to match the column in `population_data`"
   ]
  },
  {
   "cell_type": "code",
   "execution_count": 52,
   "metadata": {},
   "outputs": [],
   "source": [
    "zip_data_clean = zip_data_clean.rename(columns={'name':'Zip Code'})"
   ]
  },
  {
   "cell_type": "markdown",
   "metadata": {},
   "source": [
    "We now want to merge both `zip_data_clean` and `population_data_clean`. First we check if they have the same amount of rows"
   ]
  },
  {
   "cell_type": "code",
   "execution_count": 53,
   "metadata": {
    "scrolled": true
   },
   "outputs": [
    {
     "data": {
      "text/plain": [
       "804"
      ]
     },
     "execution_count": 53,
     "metadata": {},
     "output_type": "execute_result"
    }
   ],
   "source": [
    "len(zip_data_clean)"
   ]
  },
  {
   "cell_type": "code",
   "execution_count": 54,
   "metadata": {},
   "outputs": [
    {
     "data": {
      "text/plain": [
       "319"
      ]
     },
     "execution_count": 54,
     "metadata": {},
     "output_type": "execute_result"
    }
   ],
   "source": [
    "len(population_data_clean)"
   ]
  },
  {
   "cell_type": "markdown",
   "metadata": {},
   "source": [
    "We notice that there's a significant difference between those two numbers. The zip data contains all zip codes in Southern California while the population data are data specifically for Los Angeles.\n",
    "\n",
    "We will be using geopanda's merge since there are polygon data"
   ]
  },
  {
   "cell_type": "code",
   "execution_count": 70,
   "metadata": {
    "scrolled": true
   },
   "outputs": [
    {
     "data": {
      "text/html": [
       "<div>\n",
       "<style scoped>\n",
       "    .dataframe tbody tr th:only-of-type {\n",
       "        vertical-align: middle;\n",
       "    }\n",
       "\n",
       "    .dataframe tbody tr th {\n",
       "        vertical-align: top;\n",
       "    }\n",
       "\n",
       "    .dataframe thead th {\n",
       "        text-align: right;\n",
       "    }\n",
       "</style>\n",
       "<table border=\"1\" class=\"dataframe\">\n",
       "  <thead>\n",
       "    <tr style=\"text-align: right;\">\n",
       "      <th></th>\n",
       "      <th>Zip Code</th>\n",
       "      <th>geometry</th>\n",
       "      <th>Total Population</th>\n",
       "      <th>Median Age</th>\n",
       "      <th>Total Males</th>\n",
       "      <th>Total Females</th>\n",
       "      <th>Total Households</th>\n",
       "      <th>Average Household Size</th>\n",
       "    </tr>\n",
       "  </thead>\n",
       "  <tbody>\n",
       "    <tr>\n",
       "      <th>0</th>\n",
       "      <td>90001</td>\n",
       "      <td>(POLYGON ((-118.2651510000001 33.9702490000000...</td>\n",
       "      <td>57110</td>\n",
       "      <td>26.600</td>\n",
       "      <td>28468</td>\n",
       "      <td>28642</td>\n",
       "      <td>12971</td>\n",
       "      <td>4.400</td>\n",
       "    </tr>\n",
       "    <tr>\n",
       "      <th>1</th>\n",
       "      <td>90002</td>\n",
       "      <td>(POLYGON ((-118.2373700000001 33.9585210000000...</td>\n",
       "      <td>51223</td>\n",
       "      <td>25.500</td>\n",
       "      <td>24876</td>\n",
       "      <td>26347</td>\n",
       "      <td>11731</td>\n",
       "      <td>4.360</td>\n",
       "    </tr>\n",
       "    <tr>\n",
       "      <th>2</th>\n",
       "      <td>90003</td>\n",
       "      <td>(POLYGON ((-118.2651740000001 33.9818280000000...</td>\n",
       "      <td>66266</td>\n",
       "      <td>26.300</td>\n",
       "      <td>32631</td>\n",
       "      <td>33635</td>\n",
       "      <td>15642</td>\n",
       "      <td>4.220</td>\n",
       "    </tr>\n",
       "    <tr>\n",
       "      <th>3</th>\n",
       "      <td>90004</td>\n",
       "      <td>(POLYGON ((-118.3116010000001 34.0689580000000...</td>\n",
       "      <td>62180</td>\n",
       "      <td>34.800</td>\n",
       "      <td>31302</td>\n",
       "      <td>30878</td>\n",
       "      <td>22547</td>\n",
       "      <td>2.730</td>\n",
       "    </tr>\n",
       "    <tr>\n",
       "      <th>4</th>\n",
       "      <td>90005</td>\n",
       "      <td>(POLYGON ((-118.2916380000001 34.0617930000000...</td>\n",
       "      <td>37681</td>\n",
       "      <td>33.900</td>\n",
       "      <td>19299</td>\n",
       "      <td>18382</td>\n",
       "      <td>15044</td>\n",
       "      <td>2.500</td>\n",
       "    </tr>\n",
       "  </tbody>\n",
       "</table>\n",
       "</div>"
      ],
      "text/plain": [
       "   Zip Code                                           geometry  \\\n",
       "0     90001  (POLYGON ((-118.2651510000001 33.9702490000000...   \n",
       "1     90002  (POLYGON ((-118.2373700000001 33.9585210000000...   \n",
       "2     90003  (POLYGON ((-118.2651740000001 33.9818280000000...   \n",
       "3     90004  (POLYGON ((-118.3116010000001 34.0689580000000...   \n",
       "4     90005  (POLYGON ((-118.2916380000001 34.0617930000000...   \n",
       "\n",
       "   Total Population  Median Age  Total Males  Total Females  Total Households  \\\n",
       "0             57110      26.600        28468          28642             12971   \n",
       "1             51223      25.500        24876          26347             11731   \n",
       "2             66266      26.300        32631          33635             15642   \n",
       "3             62180      34.800        31302          30878             22547   \n",
       "4             37681      33.900        19299          18382             15044   \n",
       "\n",
       "   Average Household Size  \n",
       "0                   4.400  \n",
       "1                   4.360  \n",
       "2                   4.220  \n",
       "3                   2.730  \n",
       "4                   2.500  "
      ]
     },
     "execution_count": 70,
     "metadata": {},
     "output_type": "execute_result"
    }
   ],
   "source": [
    "population_zip_merge = zip_data_clean.merge(population_data_clean, on='Zip Code')\n",
    "population_zip_merge.head()"
   ]
  },
  {
   "cell_type": "code",
   "execution_count": 71,
   "metadata": {},
   "outputs": [
    {
     "data": {
      "text/plain": [
       "319"
      ]
     },
     "execution_count": 71,
     "metadata": {},
     "output_type": "execute_result"
    }
   ],
   "source": [
    "len(population_zip_merge)"
   ]
  },
  {
   "cell_type": "markdown",
   "metadata": {},
   "source": [
    "We have successfully merged the two dataframes. We currently have 2 main dataframes: `parking_data_clean` and `population_zip_merge`\n",
    "\n",
    "We are importing `matplotlib` for visualization"
   ]
  },
  {
   "cell_type": "code",
   "execution_count": 73,
   "metadata": {},
   "outputs": [],
   "source": [
    "%matplotlib inline\n",
    "import matplotlib.pyplot as plt"
   ]
  },
  {
   "cell_type": "markdown",
   "metadata": {},
   "source": [
    "We need to convert the `geometry` column to a proper format for display"
   ]
  },
  {
   "cell_type": "code",
   "execution_count": 82,
   "metadata": {
    "scrolled": true
   },
   "outputs": [],
   "source": [
    "population_zip_merge.crs = {'init' :'epsg:4326'}"
   ]
  },
  {
   "cell_type": "code",
   "execution_count": 87,
   "metadata": {},
   "outputs": [
    {
     "ename": "CRSError",
     "evalue": "Invalid projection: +init=epsg:4326 +type=crs: (Internal Proj Error: proj_create: no database context specified)",
     "output_type": "error",
     "traceback": [
      "\u001b[1;31m---------------------------------------------------------------------------\u001b[0m",
      "\u001b[1;31mCRSError\u001b[0m                                  Traceback (most recent call last)",
      "\u001b[1;32m<ipython-input-87-2b94c3b00917>\u001b[0m in \u001b[0;36m<module>\u001b[1;34m\u001b[0m\n\u001b[1;32m----> 1\u001b[1;33m \u001b[0mpopulation_zip_merge\u001b[0m\u001b[1;33m.\u001b[0m\u001b[0mto_crs\u001b[0m\u001b[1;33m(\u001b[0m\u001b[1;34m\"+proj=lcc +lat_1=34.03333333333333 +lat_2=35.46666666666667 +lat_0=33.5 +lon_0=-118 +x_0=2000000 +y_0=500000.0000000002 +ellps=GRS80 +datum=NAD83 +to_meter=0.3048006096012192 +no_defs\"\u001b[0m\u001b[1;33m)\u001b[0m\u001b[1;33m\u001b[0m\u001b[1;33m\u001b[0m\u001b[0m\n\u001b[0m",
      "\u001b[1;32m~\\Anaconda3\\lib\\site-packages\\geopandas\\geodataframe.py\u001b[0m in \u001b[0;36mto_crs\u001b[1;34m(self, crs, epsg, inplace)\u001b[0m\n\u001b[0;32m    441\u001b[0m         \u001b[1;32melse\u001b[0m\u001b[1;33m:\u001b[0m\u001b[1;33m\u001b[0m\u001b[1;33m\u001b[0m\u001b[0m\n\u001b[0;32m    442\u001b[0m             \u001b[0mdf\u001b[0m \u001b[1;33m=\u001b[0m \u001b[0mself\u001b[0m\u001b[1;33m.\u001b[0m\u001b[0mcopy\u001b[0m\u001b[1;33m(\u001b[0m\u001b[1;33m)\u001b[0m\u001b[1;33m\u001b[0m\u001b[1;33m\u001b[0m\u001b[0m\n\u001b[1;32m--> 443\u001b[1;33m         \u001b[0mgeom\u001b[0m \u001b[1;33m=\u001b[0m \u001b[0mdf\u001b[0m\u001b[1;33m.\u001b[0m\u001b[0mgeometry\u001b[0m\u001b[1;33m.\u001b[0m\u001b[0mto_crs\u001b[0m\u001b[1;33m(\u001b[0m\u001b[0mcrs\u001b[0m\u001b[1;33m=\u001b[0m\u001b[0mcrs\u001b[0m\u001b[1;33m,\u001b[0m \u001b[0mepsg\u001b[0m\u001b[1;33m=\u001b[0m\u001b[0mepsg\u001b[0m\u001b[1;33m)\u001b[0m\u001b[1;33m\u001b[0m\u001b[1;33m\u001b[0m\u001b[0m\n\u001b[0m\u001b[0;32m    444\u001b[0m         \u001b[0mdf\u001b[0m\u001b[1;33m.\u001b[0m\u001b[0mgeometry\u001b[0m \u001b[1;33m=\u001b[0m \u001b[0mgeom\u001b[0m\u001b[1;33m\u001b[0m\u001b[1;33m\u001b[0m\u001b[0m\n\u001b[0;32m    445\u001b[0m         \u001b[0mdf\u001b[0m\u001b[1;33m.\u001b[0m\u001b[0mcrs\u001b[0m \u001b[1;33m=\u001b[0m \u001b[0mgeom\u001b[0m\u001b[1;33m.\u001b[0m\u001b[0mcrs\u001b[0m\u001b[1;33m\u001b[0m\u001b[1;33m\u001b[0m\u001b[0m\n",
      "\u001b[1;32m~\\Anaconda3\\lib\\site-packages\\geopandas\\geoseries.py\u001b[0m in \u001b[0;36mto_crs\u001b[1;34m(self, crs, epsg)\u001b[0m\n\u001b[0;32m    302\u001b[0m             \u001b[1;32mexcept\u001b[0m \u001b[0mTypeError\u001b[0m\u001b[1;33m:\u001b[0m\u001b[1;33m\u001b[0m\u001b[1;33m\u001b[0m\u001b[0m\n\u001b[0;32m    303\u001b[0m                 \u001b[1;32mraise\u001b[0m \u001b[0mTypeError\u001b[0m\u001b[1;33m(\u001b[0m\u001b[1;34m'Must set either crs or epsg for output.'\u001b[0m\u001b[1;33m)\u001b[0m\u001b[1;33m\u001b[0m\u001b[1;33m\u001b[0m\u001b[0m\n\u001b[1;32m--> 304\u001b[1;33m         \u001b[0mproj_in\u001b[0m \u001b[1;33m=\u001b[0m \u001b[0mpyproj\u001b[0m\u001b[1;33m.\u001b[0m\u001b[0mProj\u001b[0m\u001b[1;33m(\u001b[0m\u001b[0mself\u001b[0m\u001b[1;33m.\u001b[0m\u001b[0mcrs\u001b[0m\u001b[1;33m,\u001b[0m \u001b[0mpreserve_units\u001b[0m\u001b[1;33m=\u001b[0m\u001b[1;32mTrue\u001b[0m\u001b[1;33m)\u001b[0m\u001b[1;33m\u001b[0m\u001b[1;33m\u001b[0m\u001b[0m\n\u001b[0m\u001b[0;32m    305\u001b[0m         \u001b[0mproj_out\u001b[0m \u001b[1;33m=\u001b[0m \u001b[0mpyproj\u001b[0m\u001b[1;33m.\u001b[0m\u001b[0mProj\u001b[0m\u001b[1;33m(\u001b[0m\u001b[0mcrs\u001b[0m\u001b[1;33m,\u001b[0m \u001b[0mpreserve_units\u001b[0m\u001b[1;33m=\u001b[0m\u001b[1;32mTrue\u001b[0m\u001b[1;33m)\u001b[0m\u001b[1;33m\u001b[0m\u001b[1;33m\u001b[0m\u001b[0m\n\u001b[0;32m    306\u001b[0m         \u001b[0mproject\u001b[0m \u001b[1;33m=\u001b[0m \u001b[0mpartial\u001b[0m\u001b[1;33m(\u001b[0m\u001b[0mpyproj\u001b[0m\u001b[1;33m.\u001b[0m\u001b[0mtransform\u001b[0m\u001b[1;33m,\u001b[0m \u001b[0mproj_in\u001b[0m\u001b[1;33m,\u001b[0m \u001b[0mproj_out\u001b[0m\u001b[1;33m)\u001b[0m\u001b[1;33m\u001b[0m\u001b[1;33m\u001b[0m\u001b[0m\n",
      "\u001b[1;32m~\\Anaconda3\\lib\\site-packages\\pyproj\\proj.py\u001b[0m in \u001b[0;36m__init__\u001b[1;34m(self, projparams, preserve_units, **kwargs)\u001b[0m\n",
      "\u001b[1;32m~\\Anaconda3\\lib\\site-packages\\pyproj\\crs.py\u001b[0m in \u001b[0;36mfrom_user_input\u001b[1;34m(cls, value)\u001b[0m\n",
      "\u001b[1;32m~\\Anaconda3\\lib\\site-packages\\pyproj\\crs.py\u001b[0m in \u001b[0;36m__init__\u001b[1;34m(self, projparams, **kwargs)\u001b[0m\n",
      "\u001b[1;32mpyproj/_crs.pyx\u001b[0m in \u001b[0;36mpyproj._crs._CRS.__init__\u001b[1;34m()\u001b[0m\n",
      "\u001b[1;31mCRSError\u001b[0m: Invalid projection: +init=epsg:4326 +type=crs: (Internal Proj Error: proj_create: no database context specified)"
     ]
    }
   ],
   "source": [
    "population_zip_merge.to_crs(\"+proj=lcc +lat_1=34.03333333333333 +lat_2=35.46666666666667 +lat_0=33.5 +lon_0=-118 +x_0=2000000 +y_0=500000.0000000002 +ellps=GRS80 +datum=NAD83 +to_meter=0.3048006096012192 +no_defs\")"
   ]
  },
  {
   "cell_type": "markdown",
   "metadata": {},
   "source": [
    "We will use `contextily` to use their mapping tools\n",
    "\n",
    "It can be installed  using: `conda install -c conda-forge contextily`"
   ]
  },
  {
   "cell_type": "code",
   "execution_count": 77,
   "metadata": {
    "scrolled": true
   },
   "outputs": [],
   "source": [
    "import contextily as ctx\n",
    "\n",
    "def add_basemap(ax, zoom, url='http://tile.stamen.com/terrain/tileZ/tileX/tileY.png'):\n",
    "    xmin, xmax, ymin, ymax = ax.axis()\n",
    "    basemap, extent = ctx.bounds2img(xmin, ymin, xmax, ymax, zoom=zoom, url=url)\n",
    "    ax.imshow(basemap, extent=extent, interpolation='bilinear')\n",
    "    # restore original x/y limits\n",
    "    ax.axis((xmin, xmax, ymin, ymax))"
   ]
  },
  {
   "cell_type": "code",
   "execution_count": 78,
   "metadata": {},
   "outputs": [
    {
     "data": {
      "image/png": "[encoded data removed]",
      "text/plain": [
       "<Figure size 720x720 with 1 Axes>"
      ]
     },
     "metadata": {
      "needs_background": "light"
     },
     "output_type": "display_data"
    }
   ],
   "source": [
    "ax = population_zip_merge.plot(figsize=(10, 10), alpha=0.5, edgecolor='k')\n",
    "add_basemap(ax, zoom=10)"
   ]
  },
  {
   "cell_type": "code",
   "execution_count": null,
   "metadata": {},
   "outputs": [],
   "source": []
  }
 ],
 "metadata": {
  "kernelspec": {
   "display_name": "Python 3",
   "language": "python",
   "name": "python3"
  },
  "language_info": {
   "codemirror_mode": {
    "name": "ipython",
    "version": 3
   },
   "file_extension": ".py",
   "mimetype": "text/x-python",
   "name": "python",
   "nbconvert_exporter": "python",
   "pygments_lexer": "ipython3",
   "version": "3.7.3"
  }
 },
 "nbformat": 4,
 "nbformat_minor": 2
}
